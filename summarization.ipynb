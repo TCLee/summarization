{
 "cells": [
  {
   "cell_type": "markdown",
   "id": "530f2b64-a6e8-42da-8da6-5ccde1d48bb0",
   "metadata": {},
   "source": [
    "# Summarize Text\n",
    "\n",
    "## Overview\n",
    "\n",
    "LLMs are a great tool for summarizing text content, given their proficiency in understanding and generating text.\n",
    "\n",
    "In the context of [RAG (retrieval-augmented generation)](https://github.com/TCLee/rag-langchain), summarizing text can help distill the information in a large number of retrieved documents to provide context for a LLM.\n",
    "\n",
    "In this notebook, we'll go over how to summarize text content with 3 different strategies. First, we split or chunk a long piece of text into \"sub-documents\". Then, we'll explore the following strategies:\n",
    "- **Stuff**: Simply \"stuff\" all the documents into a single prompt. This is the simplest approach if the whole document can fit inside the model's context window.\n",
    "- **Map-Reduce**: Summarize each sub-document in _parallel_ in a `map` step and then `reduce` or consolidate the summaries into a final summary.\n",
    "- **Iterative Refinement**:\n",
    "    1. Summarize the first sub-document.\n",
    "    2. Refine/update the result based on the next sub-document.\n",
    "    3. Repeat through the sequence of sub-documents until finished.\n",
    "\n",
    "> The code in this notebook is adapted from the [LangChain tutorial: Summarize Text](https://python.langchain.com/docs/tutorials/summarize_text/)."
   ]
  },
  {
   "cell_type": "markdown",
   "id": "9abff1f7-f911-43e7-94cd-adbadb0d1bbc",
   "metadata": {},
   "source": [
    "## Environment variables\n",
    "\n",
    "Before running the next cell, please make sure you have setup the `.env` file in the project directory as described in [`README.md`](README.md).\n",
    "\n",
    "Next, we will load in the necessary environment variables for this notebook using [`dotenv`](https://github.com/theskumar/python-dotenv):\n"
   ]
  },
  {
   "cell_type": "code",
   "execution_count": 1,
   "id": "5ffd5c34-0645-4baf-a29e-c36ed12487d3",
   "metadata": {},
   "outputs": [],
   "source": [
    "from dotenv import load_dotenv\n",
    "\n",
    "_ = load_dotenv()"
   ]
  },
  {
   "cell_type": "markdown",
   "id": "5170548d-1906-417f-990b-61393fcbf734",
   "metadata": {},
   "source": [
    "## Run models locally\n",
    "\n",
    "Before we begin, please make sure you followed the instructions in the [`README.md`](README.md) to setup [`Ollama`](https://ollama.com/) and [`Llama 3.2`](https://ollama.com/library/llama3.2).\n",
    "\n",
    "Two important benefits of running LLMs locally on your own device are:\n",
    "- **Privacy**: Your data is not sent to a third party, and it is not subject to the terms of service of a commercial service.\n",
    "- **Cost**: There is no inference fee, which is important for token-intensive applications (e.g., summarization, agent simulations)\n",
    "\n",
    "In this notebook, we'll be using `Llama 3.2` with size of `3B` parameters. We'll use `Ollama` to serve the LLM and run inference locally.\n",
    "\n",
    "> See also: [How to run models locally](https://python.langchain.com/docs/how_to/local_llms/)\n",
    "\n",
    "Let's load the model into memory and try it out:"
   ]
  },
  {
   "cell_type": "code",
   "execution_count": 3,
   "id": "236597aa-768e-4496-aa51-da027243abaa",
   "metadata": {},
   "outputs": [
    {
     "name": "stdout",
     "output_type": "stream",
     "text": [
      "\"The Cask of Amontillado\" is a short story by Edgar Allan Poe, first published in 1846. The narrative follows Montresor, a nobleman seeking revenge against his acquaintance, Fortunato, who he believes has wronged him.\n",
      "\n",
      "Montresor invites Fortunato to his family's underground catacombs for a night of revelry and wine tasting. Unbeknownst to Fortunato, Montresor intends to punish him for an unspecified offense. As the evening progresses, Montresor leads Fortunato deeper into the catacombs, where he becomes increasingly disoriented and trapped.\n",
      "\n",
      "Using his knowledge of the labyrinthine tunnels, Montresor expertly manipulates Fortunato's perceptions, making him believe that they are searching for a rare bottle of Amontillado wine. As the story unfolds, Montresor's actions become more sinister, ultimately leading to Fortunato's gruesome and fatal demise.\n",
      "\n",
      "The tale is known for its masterful use of suspense, symbolism, and psychological manipulation, leaving readers with a sense of unease and moral ambiguity.\n"
     ]
    }
   ],
   "source": [
    "from langchain_ollama import ChatOllama\n",
    "\n",
    "chat_model = ChatOllama(\n",
    "    model=\"llama3.2:3b\",\n",
    "    temperature=0\n",
    ")\n",
    "\n",
    "response = chat_model.invoke(\n",
    "    \"Write a brief summary of the story \"\n",
    "    \"`The Cask of Amontillado` by Edgar Allan Poe.\"\n",
    ")\n",
    "\n",
    "print(response.content)"
   ]
  },
  {
   "cell_type": "markdown",
   "id": "8668a474",
   "metadata": {},
   "source": [
    "We can see that `Llama 3.2` has been pre-trained on the [The Cask of Amontillado](https://www.gutenberg.org/ebooks/1063) by [Edgar Allan Poe](https://en.wikipedia.org/wiki/Edgar_Allan_Poe). So, it has an existing knowledge of this story."
   ]
  },
  {
   "cell_type": "markdown",
   "id": "d07f7d2b-cda6-41b0-b064-f73af46bb1cf",
   "metadata": {},
   "source": [
    "## Document Loading\n",
    "\n",
    "Let's load in a sample text file that we will use for summarization.\n",
    "\n",
    "The sample file is a short story by [Edgar Allan Poe](https://en.wikipedia.org/wiki/Edgar_Allan_Poe) titled [\"The Cask of Amontillado\"](https://www.gutenberg.org/ebooks/1063). This and other short stories are freely available on [Project Gutenberg](https://www.gutenberg.org/)."
   ]
  },
  {
   "cell_type": "code",
   "execution_count": 4,
   "id": "bfb38894-329a-434e-b97e-a00c2bb115c8",
   "metadata": {},
   "outputs": [],
   "source": [
    "from langchain_community.document_loaders import TextLoader\n",
    "\n",
    "text_loader = TextLoader(\n",
    "    file_path=\"data/the-cask-of-amontillado.txt\", \n",
    "    encoding=\"utf-8\"\n",
    ")\n",
    "docs = text_loader.load()"
   ]
  },
  {
   "cell_type": "code",
   "execution_count": 5,
   "id": "2a057c35-5dc2-4d7f-a13c-83bf56af23ff",
   "metadata": {},
   "outputs": [
    {
     "name": "stdout",
     "output_type": "stream",
     "text": [
      "The Cask of Amontillado\n",
      "by Edgar Allan Poe\n",
      "\n",
      "\n",
      "The thousand injuries of Fortunato I had borne as I best could, but\n",
      "when he ventured upon insult, I vowed revenge.  You, who so well know\n",
      "the nature of my soul, will not suppose, however, that I gave utterance\n",
      "to a threat.  _At length_ I would be avenged; this was a point definitely\n",
      "settled--but the very definitiveness with which it was resolved,\n",
      "precluded the idea of risk.  I must not only punish, but punish with\n",
      "impunity.  A wrong is unredressed whe\n"
     ]
    }
   ],
   "source": [
    "print(\n",
    "    docs[0].page_content[:500]\n",
    ")"
   ]
  },
  {
   "cell_type": "markdown",
   "id": "57525664-866f-4fda-9b57-816f6045eb4f",
   "metadata": {},
   "source": [
    "## Stuff: Summarize text in a single LLM call\n",
    "\n",
    "For models with larger context windows, we can summarize a long document via a single LLM call. Here we use `Llama 3.2` that supports a context length of `128K` tokens.\n",
    "\n",
    "LangChain implements a simple pre-built chain [`create_stuff_documents_chain`](https://python.langchain.com/api_reference/langchain/chains/langchain.chains.combine_documents.stuff.create_stuff_documents_chain.html)\n",
    "that \"stuffs\" a prompt with the desired context for summarization. It takes a list of documents, insert them all into a prompt, and pass that prompt to an LLM.\n",
    "\n",
    "> See also: [How to summarize text in a single LLM call](https://python.langchain.com/docs/how_to/summarize_stuff/)\n",
    "\n",
    "Let's take a look at the prompt used for summarizing the story:"
   ]
  },
  {
   "cell_type": "code",
   "execution_count": 21,
   "id": "a1b541b0",
   "metadata": {},
   "outputs": [
    {
     "name": "stdout",
     "output_type": "stream",
     "text": [
      "Write a plot summary of the following story in under 500 words. Only use the information provided in the story below to produce the plot summary. Your final answer should only be the plot summary and nothing else.\n",
      "\n",
      "Story to summarize:\n",
      "\u001b[33;1m\u001b[1;3m{context}\u001b[0m\n",
      "\n",
      "Plot summary:\n"
     ]
    }
   ],
   "source": [
    "from langchain_core.prompts import PromptTemplate\n",
    "\n",
    "summarize_template = PromptTemplate.from_file(\n",
    "    \"prompts/summarize_template.txt\"\n",
    ")\n",
    "\n",
    "summarize_template.pretty_print()"
   ]
  },
  {
   "cell_type": "code",
   "execution_count": 22,
   "id": "33a1e9b1-e09f-4b27-9a83-a1a48313954a",
   "metadata": {},
   "outputs": [
    {
     "name": "stdout",
     "output_type": "stream",
     "text": [
      "The story is about an unnamed narrator who seeks revenge against his acquaintance, Fortunato, for an unspecified offense. The narrator invites Fortunato to his family's catacombs to show him a rare bottle of Amontillado wine. Once they are alone in the catacombs, the narrator chains Fortunato to a wall and begins to brick him up alive, sealing him in the tomb.\n",
      "\n",
      "The story is told from the perspective of the narrator, who is calm and collected throughout the ordeal. He taunts Fortunato with his fate, calling out to him as he works on the wall that will trap him. The narrator's obsession with revenge is evident throughout the story, and his actions become increasingly sinister as the tale progresses.\n",
      "\n",
      "The story ends with the narrator finishing the brickwork and sealing Fortunato in the tomb, where he remains until the end of the story. The final line, \"In pace requiescat! (Rest in peace!)\", suggests that the narrator is finally at peace with his actions, but also implies a sense of guilt and remorse.\n",
      "\n",
      "The story is known for its dark and atmospheric tone, as well as its exploration of themes such as revenge, obsession, and the human psyche. It has been interpreted in many ways over the years, including as a commentary on the dangers of unchecked ambition and the consequences of allowing one's emotions to consume them.\n"
     ]
    }
   ],
   "source": [
    "from langchain.chains.combine_documents \\\n",
    "    import create_stuff_documents_chain\n",
    "from langchain_core.prompts import ChatPromptTemplate\n",
    "\n",
    "# Define prompt\n",
    "prompt_template = ChatPromptTemplate.from_messages(\n",
    "    messages=[        \n",
    "        (\"human\", summarize_template.template)\n",
    "    ]\n",
    ")\n",
    "\n",
    "# Instantiate chain\n",
    "stuff_chain = create_stuff_documents_chain(\n",
    "    llm=chat_model, \n",
    "    prompt=prompt_template\n",
    ")\n",
    "\n",
    "# Invoke chain\n",
    "result = stuff_chain.invoke(\n",
    "    input={\"context\": docs}\n",
    ")\n",
    "\n",
    "print(result)"
   ]
  },
  {
   "cell_type": "markdown",
   "id": "0e76e97e-b5a7-4171-a101-5002d08202ba",
   "metadata": {},
   "source": [
    "### Streaming\n",
    "\n",
    "Note that we can also stream the result token-by-token:"
   ]
  },
  {
   "cell_type": "code",
   "execution_count": 20,
   "id": "3ee5442c-f105-4338-9f36-42dbfc81a109",
   "metadata": {},
   "outputs": [
    {
     "name": "stdout",
     "output_type": "stream",
     "text": [
      "The| story| is| about| an| unnamed| narrator| who| seeks| revenge| against| his| acquaintance|,| Fort|un|ato|,| for| an| unspecified| offense|.| The| narrator| invites| Fort|un|ato| to| his| family|'s| cata|com|bs| to| show| him| a| rare| bottle| of| Am|ont|ill|ado| wine|.| Once| they| are| alone| in| the| cata|com|bs|,| the| narrator| chains| Fort|un|ato| to| a| wall| and| begins| to| brick| him| up| alive|,| sealing| him| in| the| tomb|.\n",
      "\n",
      "|The| story| is| told| from| the| perspective| of| the| narrator|,| who| is| calm| and| collected| throughout| the| ordeal|.| He| ta|unts| Fort|un|ato| with| his| fate|,| calling| out| to| him| as| he| works| on| the| wall| that| will| trap| him|.| The| narrator|'s| obsession| with| revenge| is| evident| throughout| the| story|,| and| his| actions| become| increasingly| sinister| as| the| tale| progresses|.\n",
      "\n",
      "|The| story| ends| with| the| narrator| finishing| the| brick|work| and| sealing| Fort|un|ato| in| the| tomb|,| where| he| remains| until| the| end| of| the| story|.| The| final| line|,| \"|In| pace| requ|ies|cat|!| (|Rest| in| peace|!|)\",| suggests| that| the| narrator| is| finally| at| peace| with| his| actions|,| but| also| implies| a| sense| of| guilt| and| remorse|.\n",
      "\n",
      "|The| story| is| known| for| its| dark| and| atmospheric| tone|,| as| well| as| its| exploration| of| themes| such| as| revenge|,| obsession|,| and| the| human| psyche|.| It| has| been| interpreted| in| many| ways| over| the| years|,| including| as| a| commentary| on| the| dangers| of| unchecked| ambition| and| the| consequences| of| allowing| one|'s| emotions| to| consume| them|.||"
     ]
    }
   ],
   "source": [
    "input_dict = {\"context\": docs}\n",
    "\n",
    "for token in stuff_chain.stream(input=input_dict):\n",
    "    print(token, end=\"|\")"
   ]
  },
  {
   "cell_type": "markdown",
   "id": "f37a2bdb-8080-43b8-b662-89169a0a77c3",
   "metadata": {},
   "source": [
    "## Map-Reduce: Summarize long texts via parallelization\n",
    "\n",
    "LLMs can summarize and distill information from large volumes of text. In cases when the amount of text is too large to fit in the model's context window, it is necessary to break up the summarization task into smaller sub-tasks.\n",
    "\n",
    "`Map-Reduce` is one way of accomplishing this. The steps are:\n",
    "\n",
    "1. Split the long text into \"sub-documents\" (or chunks).\n",
    "2. `Map` each sub-document to an individual summary using an LLM.\n",
    "3. `Reduce` (or consolidate) those summaries into a final global summary.\n",
    "\n",
    "Note that the `Map` step is **parallelized** over the sub-documents. This strategy is especially effective when understanding of a sub-document does **not** depend on prior context. For example, when summarizing a corpus of many, shorter independent documents.\n",
    "\n",
    "> See also: [How to summarize text via Map-Reduce](https://python.langchain.com/docs/how_to/summarize_map_reduce/)"
   ]
  },
  {
   "cell_type": "markdown",
   "id": "683292e0-3c92-464d-88f6-3b7abdc2865c",
   "metadata": {},
   "source": [
    "### Split into sub-documents\n",
    "\n",
    "First we split a long text into smaller \"sub-documents\" to be mapped.\n",
    "We'll split the text up into chunks by counting the number of tokens. Since we're using [`llama3.2:3b`](https://ollama.com/library/llama3.2:3b) with `Ollama`, we'll use [`meta-llama/Llama-3.2-3B-Instruct`](https://huggingface.co/meta-llama/Llama-3.2-3B-Instruct) tokenizer downloaded from [HuggingFace 🤗 Hub](https://huggingface.co/) to count the tokens:"
   ]
  },
  {
   "cell_type": "code",
   "execution_count": 24,
   "id": "0199892e-5264-431e-a151-6bacfbd025a6",
   "metadata": {},
   "outputs": [
    {
     "name": "stdout",
     "output_type": "stream",
     "text": [
      "Generated 4 documents.\n"
     ]
    }
   ],
   "source": [
    "from transformers import AutoTokenizer\n",
    "from langchain_text_splitters import CharacterTextSplitter\n",
    "\n",
    "llama_tokenizer = AutoTokenizer.from_pretrained(\"./llama-tokenizer\")\n",
    "\n",
    "text_splitter = CharacterTextSplitter.from_huggingface_tokenizer(\n",
    "    tokenizer=llama_tokenizer,\n",
    "    chunk_size=1000, \n",
    "    chunk_overlap=0\n",
    ")\n",
    "split_docs = text_splitter.split_documents(docs)\n",
    "\n",
    "print(\n",
    "    f\"Generated {len(split_docs)} documents.\"\n",
    ")"
   ]
  },
  {
   "cell_type": "markdown",
   "id": "89121d84-77e8-4257-a5c9-24ffaa0e83a2",
   "metadata": {},
   "source": [
    "### Map step\n",
    "\n",
    "Let's first define the prompt associated with the map step, and pass it to the LLM via a [chain](https://python.langchain.com/docs/how_to/sequence/). We'll use the same summarization prompt as in the stuff documents approach above:"
   ]
  },
  {
   "cell_type": "code",
   "execution_count": 25,
   "id": "13a3dfd0-c042-4f79-9cb6-93a0b9504b66",
   "metadata": {},
   "outputs": [],
   "source": [
    "from langchain_core.output_parsers import StrOutputParser\n",
    "from langchain_core.prompts import ChatPromptTemplate\n",
    "\n",
    "map_prompt = ChatPromptTemplate.from_messages(\n",
    "    messages=[\n",
    "        (\"human\", summarize_template.template)\n",
    "    ]\n",
    ")\n",
    "\n",
    "map_chain = map_prompt | chat_model | StrOutputParser()"
   ]
  },
  {
   "cell_type": "code",
   "execution_count": 26,
   "id": "97a0904e-b26d-4beb-af61-85bf628cf909",
   "metadata": {},
   "outputs": [
    {
     "name": "stdout",
     "output_type": "stream",
     "text": [
      "================================\u001b[1m Human Message \u001b[0m=================================\n",
      "\n",
      "Write a plot summary of the following story in under 500 words. Only use the information provided in the story below to produce the plot summary. Your final answer should only be the plot summary and nothing else.\n",
      "\n",
      "Story to summarize:\n",
      "\u001b[33;1m\u001b[1;3m{context}\u001b[0m\n",
      "\n",
      "Plot summary:\n"
     ]
    }
   ],
   "source": [
    "map_prompt.pretty_print()"
   ]
  },
  {
   "cell_type": "markdown",
   "id": "6ffd6a2e-2fed-449e-a7b1-98d6e8b8d73f",
   "metadata": {},
   "source": [
    "### Reduce step\n",
    "\n",
    "We also define a chain that takes the document mapping results and reduces them into a single output."
   ]
  },
  {
   "cell_type": "code",
   "execution_count": 29,
   "id": "ec7fd404-284d-4578-a47f-d976852bb756",
   "metadata": {},
   "outputs": [],
   "source": [
    "reduce_template = PromptTemplate.from_file(\n",
    "    \"prompts/reduce_template.txt\"\n",
    ")\n",
    "\n",
    "reduce_prompt = ChatPromptTemplate(\n",
    "    messages=[\n",
    "        (\"human\", reduce_template.template)\n",
    "    ]\n",
    ")\n",
    "\n",
    "reduce_chain = reduce_prompt | chat_model | StrOutputParser()"
   ]
  },
  {
   "cell_type": "code",
   "execution_count": 30,
   "id": "4a80b04e-502e-4373-b70c-09923e679b21",
   "metadata": {},
   "outputs": [
    {
     "name": "stdout",
     "output_type": "stream",
     "text": [
      "================================\u001b[1m Human Message \u001b[0m=================================\n",
      "\n",
      "Take the list of summaries below and distill it into a final consolidated summary. Your final answer should only be the consolidated summary and nothing else.\n",
      "\n",
      "List of summaries:\n",
      "\u001b[33;1m\u001b[1;3m{docs}\u001b[0m\n",
      "\n",
      "Consolidated summary:\n",
      "\n"
     ]
    }
   ],
   "source": [
    "reduce_prompt.pretty_print()"
   ]
  },
  {
   "cell_type": "markdown",
   "id": "063d4eb5-cb75-48fe-8755-04744dfd66ec",
   "metadata": {},
   "source": [
    "### Orchestration via LangGraph\n",
    "\n",
    "Below we implement a simple application that maps the summarization step on a list of documents, then reduces them using the above prompts.\n",
    "\n",
    "`Map-Reduce` flows are particularly useful when texts are too long to fit into the context window of a LLM. For long texts, we need to ensure that the number of tokens to be summarized in the `reduce` step does not exceed the LLM's context window. Here we implement a recursive `collapsing` of the summaries:\n",
    "\n",
    "* The inputs are partitioned based on a token limit `MAX_TOKENS`\n",
    "* Generate a summary for each partition.\n",
    "* Repeat the `collapsing` step until total length of all summaries is $\\leq$ `MAX_TOKENS`\n",
    "\n",
    "This enables summarization of arbitrary-length text.\n",
    "\n",
    "Note that we define an artificially low maximum token length to illustrate the `collapsing` step."
   ]
  },
  {
   "cell_type": "code",
   "execution_count": 31,
   "id": "97d4911f-9745-47a5-8203-0a26453a2dcd",
   "metadata": {},
   "outputs": [],
   "source": [
    "MAX_TOKENS = 500"
   ]
  },
  {
   "cell_type": "code",
   "execution_count": 33,
   "id": "8ab91db6-cb57-458d-8caa-db37bc70dfa3",
   "metadata": {},
   "outputs": [],
   "source": [
    "import operator\n",
    "from typing import (\n",
    "    Annotated, \n",
    "    Literal, \n",
    "    TypedDict\n",
    ")\n",
    "\n",
    "from langchain_core.documents import Document\n",
    "from langchain.chains.combine_documents.reduce import (\n",
    "    acollapse_docs,\n",
    "    split_list_of_docs,\n",
    ")\n",
    "from langgraph.types import Send\n",
    "from langgraph.graph import (\n",
    "    START,\n",
    "    END,      \n",
    "    StateGraph\n",
    ")\n",
    "\n",
    "\n",
    "def get_total_num_tokens(\n",
    "    documents: list[Document]\n",
    ") -> int:\n",
    "    \"\"\"\n",
    "    Returns the total number of tokens in the \n",
    "    list of documents.\n",
    "    \"\"\"\n",
    "    def count_tokens(text: str) -> int:\n",
    "        return len(\n",
    "            llama_tokenizer.encode(text)\n",
    "        )\n",
    "    \n",
    "    return sum(        \n",
    "        count_tokens(doc.page_content)\n",
    "        for doc in documents\n",
    "    )\n",
    "\n",
    "\n",
    "# This will be the overall state of the main graph.\n",
    "# It will contain the input document contents, corresponding\n",
    "# summaries, and a final summary.\n",
    "class OverallState(TypedDict):\n",
    "    # Notice here we use the operator.add\n",
    "    # This is because we want combine all the summaries we generate\n",
    "    # from individual nodes back into one list - this is essentially\n",
    "    # the \"reduce\" part\n",
    "    contents: list[str]\n",
    "    summaries: Annotated[list, operator.add]\n",
    "    collapsed_summaries: list[Document]\n",
    "    final_summary: str\n",
    "\n",
    "\n",
    "# This will be the state of the node that we will \"map\" all\n",
    "# documents to in order to generate summaries\n",
    "class SummaryState(TypedDict):\n",
    "    content: str\n",
    "\n",
    "\n",
    "# Here we generate a summary, given a document\n",
    "async def generate_summary(\n",
    "    state: SummaryState\n",
    ") -> OverallState:\n",
    "    response = await map_chain.ainvoke(\n",
    "        state[\"content\"]\n",
    "    )\n",
    "    return OverallState(\n",
    "        summaries=[response]\n",
    "    )\n",
    "\n",
    "\n",
    "# Here we define the logic to map out over the documents\n",
    "# We will use this as an edge in the graph\n",
    "def map_summaries(\n",
    "    state: OverallState\n",
    ") -> list[Send]:\n",
    "    # We will return a list of `Send` objects\n",
    "    # Each `Send` object consists of the name of a node in the graph\n",
    "    # as well as the state to send to that node\n",
    "    return [\n",
    "        Send(\n",
    "            node=\"generate_summary\",             \n",
    "            arg=SummaryState(content=content)\n",
    "        ) for content in state[\"contents\"]        \n",
    "    ]\n",
    "\n",
    "\n",
    "def collect_summaries(\n",
    "    state: OverallState\n",
    ") -> OverallState:\n",
    "    return OverallState(\n",
    "        collapsed_summaries=[\n",
    "            Document(summary) \n",
    "            for summary in state[\"summaries\"]\n",
    "        ]\n",
    "    )\n",
    "\n",
    "\n",
    "# Add node to collapse summaries\n",
    "async def collapse_summaries(\n",
    "    state: OverallState\n",
    ") -> OverallState:\n",
    "    # split_list_of_docs() -> List[ List[Document] ]\n",
    "    doc_lists = split_list_of_docs(\n",
    "        docs=state[\"collapsed_summaries\"], \n",
    "        length_func=get_total_num_tokens, \n",
    "        token_max=MAX_TOKENS\n",
    "    )\n",
    "\n",
    "    results = []\n",
    "    for doc_list in doc_lists:\n",
    "        results.append(\n",
    "            await acollapse_docs(\n",
    "                docs=doc_list, \n",
    "                combine_document_func=reduce_chain.ainvoke\n",
    "            )\n",
    "        )\n",
    "\n",
    "    return OverallState(\n",
    "        collapsed_summaries=results\n",
    "    )\n",
    "\n",
    "\n",
    "# This represents a conditional edge in the graph that determines\n",
    "# if we should collapse the summaries or not\n",
    "def should_collapse(\n",
    "    state: OverallState,\n",
    ") -> Literal[\n",
    "        \"collapse_summaries\", \n",
    "        \"generate_final_summary\"\n",
    "    ]:\n",
    "    num_tokens = get_total_num_tokens(\n",
    "        state[\"collapsed_summaries\"]\n",
    "    )\n",
    "\n",
    "    # If total number of tokens exceeds the \n",
    "    # maximum limit, repeat the collapsing step.\n",
    "    if num_tokens > MAX_TOKENS:\n",
    "        return \"collapse_summaries\"\n",
    "    else:\n",
    "        return \"generate_final_summary\"\n",
    "\n",
    "\n",
    "# Here we will generate the final summary\n",
    "async def generate_final_summary(\n",
    "    state: OverallState\n",
    ") -> OverallState:\n",
    "    response = await reduce_chain.ainvoke(\n",
    "        state[\"collapsed_summaries\"]\n",
    "    )\n",
    "    return OverallState(\n",
    "        final_summary=response\n",
    "    )"
   ]
  },
  {
   "cell_type": "code",
   "execution_count": 34,
   "id": "ee2da04b-5ac2-4f03-8826-2f0f5aa9510a",
   "metadata": {},
   "outputs": [],
   "source": [
    "# Construct the graph\n",
    "\n",
    "# Nodes:\n",
    "graph = StateGraph(state_schema=OverallState)\n",
    "graph.add_node(\n",
    "    node=\"generate_summary\", \n",
    "    action=generate_summary\n",
    ")\n",
    "graph.add_node(\n",
    "    node=\"collect_summaries\", \n",
    "    action=collect_summaries\n",
    ")\n",
    "graph.add_node(\n",
    "    node=\"collapse_summaries\", \n",
    "    action=collapse_summaries\n",
    ")\n",
    "graph.add_node(\n",
    "    node=\"generate_final_summary\", \n",
    "    action=generate_final_summary\n",
    ")\n",
    "\n",
    "# Edges:\n",
    "\n",
    "# This edge maps to one or more `generate_summary` nodes.\n",
    "graph.add_conditional_edges(\n",
    "    source=START, \n",
    "    path=map_summaries, \n",
    "    path_map=[\"generate_summary\"]\n",
    ")\n",
    "graph.add_edge(\n",
    "    start_key=\"generate_summary\", \n",
    "    end_key=\"collect_summaries\"\n",
    ")\n",
    "graph.add_conditional_edges(\n",
    "    source=\"collect_summaries\", \n",
    "    path=should_collapse\n",
    ")\n",
    "graph.add_conditional_edges(\n",
    "    source=\"collapse_summaries\", \n",
    "    path=should_collapse\n",
    ")\n",
    "graph.add_edge(\n",
    "    start_key=\"generate_final_summary\", \n",
    "    end_key=END\n",
    ")\n",
    "\n",
    "app = graph.compile()"
   ]
  },
  {
   "cell_type": "markdown",
   "id": "7592712a-b359-4e24-99f2-15569bdac9df",
   "metadata": {},
   "source": [
    "Let's plot the graph to visualize it:"
   ]
  },
  {
   "cell_type": "code",
   "execution_count": 35,
   "id": "a9aae9d8-06a9-403f-b00a-b2e22f9a05fb",
   "metadata": {},
   "outputs": [
    {
     "data": {
      "image/jpeg": "[encoded data removed]",
      "text/plain": [
       "<IPython.core.display.Image object>"
      ]
     },
     "execution_count": 35,
     "metadata": {},
     "output_type": "execute_result"
    }
   ],
   "source": [
    "from IPython.display import Image\n",
    "\n",
    "Image(app.get_graph().draw_mermaid_png())"
   ]
  },
  {
   "cell_type": "markdown",
   "id": "0ec9a846-82fa-436c-ab68-bc80bb867828",
   "metadata": {},
   "source": [
    "### Invoke graph\n",
    "\n",
    "When running the application, we can stream the graph to observe its sequence of steps. Below, we will simply print out the name of the step.\n",
    "\n",
    "Note that because we have a loop in the graph, it can be helpful to specify a [`recursion_limit`](https://langchain-ai.github.io/langgraph/reference/errors/#langgraph.errors.GraphRecursionError) on its execution. This will raise a specific error when the specified limit is exceeded."
   ]
  },
  {
   "cell_type": "code",
   "execution_count": 36,
   "id": "d6deed54-93f5-4b9a-afd1-188154104a2b",
   "metadata": {},
   "outputs": [
    {
     "name": "stdout",
     "output_type": "stream",
     "text": [
      "['generate_summary']\n",
      "['generate_summary']\n",
      "['generate_summary']\n",
      "['generate_summary']\n",
      "['collect_summaries']\n",
      "['collapse_summaries']\n",
      "['generate_final_summary']\n"
     ]
    }
   ],
   "source": [
    "doc_contents = [\n",
    "    doc.page_content \n",
    "    for doc in split_docs\n",
    "]\n",
    "\n",
    "async for step in app.astream(\n",
    "    input=OverallState(\n",
    "        contents=doc_contents\n",
    "    ),\n",
    "    config={\n",
    "        \"recursion_limit\": 10\n",
    "    },\n",
    "):\n",
    "    print(list(step.keys())) "
   ]
  },
  {
   "cell_type": "code",
   "execution_count": 37,
   "id": "27fbfa4b",
   "metadata": {},
   "outputs": [
    {
     "name": "stdout",
     "output_type": "stream",
     "text": [
      "A narrator invites his friend Fortunato to explore the vaults beneath their family's estate or an underground catacombs, promising a rare bottle of wine. As they journey deeper into the crypts, Fortunato becomes increasingly agitated and confused by the surroundings and the narrator's behavior. The narrator eventually leads Fortunato to a small recess where he is met with horror, bound to the wall, and left helpless and trapped.\n"
     ]
    }
   ],
   "source": [
    "print(step[\"generate_final_summary\"][\"final_summary\"])"
   ]
  },
  {
   "cell_type": "markdown",
   "id": "cf8f1544",
   "metadata": {},
   "source": [
    "In the corresponding [LangSmith trace](https://smith.langchain.com/public/f1bd0d9e-ed33-4897-af33-518417df9e46/r) we can see the individual LLM calls, grouped under their respective nodes.\n",
    "\n",
    "> Check out the following LangGraph how-to guide on the details of `Map-Reduce`: \n",
    "> \n",
    "> [How to create map-reduce branches for parallel execution](https://langchain-ai.github.io/langgraph/how-tos/map-reduce/)"
   ]
  },
  {
   "cell_type": "markdown",
   "id": "e44d31be",
   "metadata": {},
   "source": [
    "## Iterative Refinement\n",
    "\n",
    "Iterative refinement is another strategy for summarizing long texts that does not fit into a model's context window. The strategy is as follows:\n",
    "\n",
    "1. Split a long text into smaller chunks or sub-documents;\n",
    "2. Summarize the first sub-document;\n",
    "3. Refine or update the summary based on the next sub-document;\n",
    "4. Repeat through the sequence of sub-documents until finished.\n",
    "\n",
    "Note that this strategy is **not parallelized**. It is especially effective when understanding of a sub-document depends on earlier sub-documents. For example, when summarizing a story or any text with an inherent sequence.\n",
    "\n",
    "> See also: [How to summarize text through iterative refinement](https://python.langchain.com/docs/how_to/summarize_refine/)"
   ]
  },
  {
   "cell_type": "markdown",
   "id": "7a7a34e7",
   "metadata": {},
   "source": [
    "### Split into sub-documents\n",
    "\n",
    "First we split a long text into smaller \"sub-documents\", similar to what we did for [`Map-Reduce`](#map-reduce-summarize-long-texts-via-parallelization)."
   ]
  },
  {
   "cell_type": "code",
   "execution_count": 38,
   "id": "86aeedf6",
   "metadata": {},
   "outputs": [
    {
     "name": "stdout",
     "output_type": "stream",
     "text": [
      "Generated 4 documents.\n"
     ]
    }
   ],
   "source": [
    "from transformers import AutoTokenizer\n",
    "from langchain_text_splitters import CharacterTextSplitter\n",
    "\n",
    "\n",
    "llama_tokenizer = AutoTokenizer.from_pretrained(\"./llama-tokenizer\")\n",
    "\n",
    "text_splitter = CharacterTextSplitter.from_huggingface_tokenizer(\n",
    "    tokenizer=llama_tokenizer,\n",
    "    chunk_size=1000, \n",
    "    chunk_overlap=0\n",
    ")\n",
    "split_docs = text_splitter.split_documents(docs)\n",
    "\n",
    "print(\n",
    "    f\"Generated {len(split_docs)} documents.\"\n",
    ")"
   ]
  },
  {
   "cell_type": "markdown",
   "id": "f5526b83",
   "metadata": {},
   "source": [
    "### Initial summary\n",
    "\n",
    "Create a chain for the initial summary that plucks out the first sub-document, formats it into a prompt and runs inference with our LLM. We'll just reuse the same summarization prompt as in the [`stuff`](#stuff-summarize-text-in-a-single-llm-call) approach."
   ]
  },
  {
   "cell_type": "code",
   "execution_count": 53,
   "id": "de615eb8",
   "metadata": {},
   "outputs": [],
   "source": [
    "from langchain_core.output_parsers import StrOutputParser\n",
    "from langchain_core.prompts import (\n",
    "    PromptTemplate, \n",
    "    ChatPromptTemplate\n",
    ")\n",
    "\n",
    "summarize_template = PromptTemplate.from_file(\n",
    "    \"prompts/summarize_template.txt\"\n",
    ")\n",
    "\n",
    "summarize_prompt = ChatPromptTemplate.from_messages(\n",
    "    messages=[\n",
    "        (\n",
    "            \"human\", \n",
    "            summarize_template.template\n",
    "        )\n",
    "    ]\n",
    ")\n",
    "\n",
    "initial_summary_chain = summarize_prompt | chat_model | StrOutputParser()"
   ]
  },
  {
   "cell_type": "code",
   "execution_count": 54,
   "id": "36c1ffed",
   "metadata": {},
   "outputs": [
    {
     "name": "stdout",
     "output_type": "stream",
     "text": [
      "================================\u001b[1m Human Message \u001b[0m=================================\n",
      "\n",
      "Write a plot summary of the following story in under 500 words. Only use the information provided in the story below to produce the plot summary. Your final answer should only be the plot summary and nothing else.\n",
      "\n",
      "Story to summarize:\n",
      "\u001b[33;1m\u001b[1;3m{context}\u001b[0m\n",
      "\n",
      "Plot summary:\n"
     ]
    }
   ],
   "source": [
    "summarize_prompt.pretty_print()"
   ]
  },
  {
   "cell_type": "markdown",
   "id": "e048584e",
   "metadata": {},
   "source": [
    "### Refine the summary\n",
    "\n",
    "Create a second chain that operates on each successive sub-document, refining the initial summary."
   ]
  },
  {
   "cell_type": "code",
   "execution_count": 63,
   "id": "52ea7e17",
   "metadata": {},
   "outputs": [],
   "source": [
    "refine_template = PromptTemplate.from_file(\n",
    "    \"prompts/refine_template.txt\"\n",
    ")\n",
    "\n",
    "refine_prompt = ChatPromptTemplate.from_messages(\n",
    "    messages=[\n",
    "        (\"human\", refine_template.template)\n",
    "    ]\n",
    ")\n",
    "\n",
    "refine_summary_chain = refine_prompt | chat_model | StrOutputParser()"
   ]
  },
  {
   "cell_type": "code",
   "execution_count": 64,
   "id": "54118d64",
   "metadata": {},
   "outputs": [
    {
     "name": "stdout",
     "output_type": "stream",
     "text": [
      "================================\u001b[1m Human Message \u001b[0m=================================\n",
      "\n",
      "Refine the original summary using additional information provided in the context below. Only use the information provided in the context below to refine the original summary. Your final answer should only be the new refined summary and nothing else.\n",
      "\n",
      "Original summary:\n",
      "\u001b[33;1m\u001b[1;3m{current_summary}\u001b[0m\n",
      "\n",
      "Context:\n",
      "\u001b[33;1m\u001b[1;3m{new_context}\u001b[0m\n",
      "\n",
      "New refined summary (under 500 words):\n",
      "\n"
     ]
    }
   ],
   "source": [
    "refine_prompt.pretty_print()"
   ]
  },
  {
   "cell_type": "markdown",
   "id": "c3da034a",
   "metadata": {},
   "source": [
    "### Create graph\n",
    "\n",
    "Below we show a [`LangGraph`](https://langchain-ai.github.io/langgraph/) implementation of summarization using iterative refinement:"
   ]
  },
  {
   "cell_type": "code",
   "execution_count": 65,
   "id": "9f98e2b6",
   "metadata": {},
   "outputs": [],
   "source": [
    "from typing import (\n",
    "    Literal, \n",
    "    TypedDict\n",
    ")\n",
    "\n",
    "from langchain_core.runnables import RunnableConfig\n",
    "from langgraph.graph import (\n",
    "    START, \n",
    "    END,\n",
    "    StateGraph\n",
    ")\n",
    "\n",
    "\n",
    "# We will define the state of the graph to hold the document\n",
    "# contents and summary. We also include an index to keep track\n",
    "# of our position in the sequence of documents.\n",
    "class State(TypedDict):\n",
    "    doc_contents: list[str]\n",
    "    \"\"\"Sequence of documents to summarize\"\"\"\n",
    "\n",
    "    doc_index: int\n",
    "    \"\"\"Index of document in `doc_contents` to summarize.\"\"\"\n",
    "\n",
    "    summary: str\n",
    "    \"\"\"The summary generated from the documents processed so far.\"\"\"\n",
    "\n",
    "\n",
    "# Node that generates the initial summary for \n",
    "# the first sub-document\n",
    "async def generate_initial_summary(\n",
    "    state: State, \n",
    "    config: RunnableConfig\n",
    ") -> State:\n",
    "    first_doc = state[\"doc_contents\"][0]\n",
    "\n",
    "    summary = await initial_summary_chain.ainvoke(\n",
    "        input=first_doc,\n",
    "        config=config,\n",
    "    )\n",
    "\n",
    "    return State(\n",
    "        summary=summary, \n",
    "\n",
    "        # Move on to second sub-document\n",
    "        doc_index=1\n",
    "    )\n",
    "\n",
    "\n",
    "# Node that refines the summary based on the \n",
    "# next document\n",
    "async def refine_summary(\n",
    "    state: State, \n",
    "    config: RunnableConfig\n",
    ") -> State:\n",
    "    doc_contents = state[\"doc_contents\"]\n",
    "    index = state[\"doc_index\"]\n",
    "    \n",
    "    summary = await refine_summary_chain.ainvoke(\n",
    "        input={\n",
    "            \"current_summary\": state[\"summary\"], \n",
    "            \"new_context\": doc_contents[index]\n",
    "        },\n",
    "        config=config,\n",
    "    )\n",
    "\n",
    "    return State(\n",
    "        summary=summary,\n",
    "\n",
    "        # Move on to next sub-document in list\n",
    "        doc_index=index + 1 \n",
    "    )\n",
    "\n",
    "\n",
    "# Conditional edge: \n",
    "# Checks whether we have summarized all the \n",
    "# documents in the list and should stop.\n",
    "def should_refine(\n",
    "    state: State\n",
    ") -> Literal[\n",
    "        \"refine_summary\", \n",
    "        END # type: ignore\n",
    "    ]:\n",
    "    doc_index = state[\"doc_index\"]\n",
    "    doc_count = len(\n",
    "        state[\"doc_contents\"]\n",
    "    )\n",
    "    \n",
    "    if doc_index >= doc_count:\n",
    "        return END\n",
    "    else:\n",
    "        return \"refine_summary\""
   ]
  },
  {
   "cell_type": "markdown",
   "id": "dfc8d76c",
   "metadata": {},
   "source": [
    "Now that we've defined the nodes as functions, let's connect it together in a graph:"
   ]
  },
  {
   "cell_type": "code",
   "execution_count": 66,
   "id": "485abd1c",
   "metadata": {},
   "outputs": [],
   "source": [
    "graph = StateGraph(state_schema=State)\n",
    "\n",
    "# Nodes:\n",
    "graph.add_node(\n",
    "    node=\"generate_initial_summary\", \n",
    "    action=generate_initial_summary\n",
    ")\n",
    "graph.add_node(\n",
    "    node=\"refine_summary\", \n",
    "    action=refine_summary\n",
    ")\n",
    "\n",
    "# Edges:\n",
    "graph.add_edge(\n",
    "    start_key=START, \n",
    "    end_key=\"generate_initial_summary\"\n",
    ")\n",
    "graph.add_conditional_edges(\n",
    "    source=\"generate_initial_summary\", \n",
    "    path=should_refine\n",
    ")\n",
    "graph.add_conditional_edges(\n",
    "    source=\"refine_summary\", \n",
    "    path=should_refine\n",
    ")\n",
    "\n",
    "app = graph.compile()"
   ]
  },
  {
   "cell_type": "markdown",
   "id": "c505e6e1",
   "metadata": {},
   "source": [
    "Let's visualize the graph structure that we just built:"
   ]
  },
  {
   "cell_type": "code",
   "execution_count": 67,
   "id": "45c39533",
   "metadata": {},
   "outputs": [
    {
     "data": {
      "image/jpeg": "[encoded data removed]",
      "text/plain": [
       "<IPython.core.display.Image object>"
      ]
     },
     "execution_count": 67,
     "metadata": {},
     "output_type": "execute_result"
    }
   ],
   "source": [
    "from IPython.display import Image\n",
    "\n",
    "Image(app.get_graph().draw_mermaid_png())"
   ]
  },
  {
   "cell_type": "markdown",
   "id": "c322d7e4",
   "metadata": {},
   "source": [
    "### Invoke graph\n",
    "\n",
    "We can step through the execution as follows, printing out the summary as it is refined:"
   ]
  },
  {
   "cell_type": "code",
   "execution_count": 68,
   "id": "d97c635a",
   "metadata": {},
   "outputs": [
    {
     "name": "stdout",
     "output_type": "stream",
     "text": [
      "The story follows the narrator's plan for revenge against his friend Fortunato, who has repeatedly insulted him. The narrator decides to punish Fortunato with impunity, ensuring that he will not be able to exact revenge on him. To achieve this, the narrator uses Fortunato's weakness - his connoisseurship in wine - to lure him into a trap.\n",
      "\n",
      "The narrator encounters Fortunato at dusk during the carnival season and engages him in conversation about a pipe of Amontillado wine that the narrator has purchased. Fortunato is eager to taste the wine, despite the narrator's doubts about its authenticity. The narrator skillfully manipulates Fortunato's enthusiasm for wine, using it as bait to lure him into his palazzo.\n",
      "\n",
      "Once inside, the narrator puts on a mask and leads Fortunato to his vaults, where he intends to bury him alive. As they walk, the narrator pretends to be concerned about Fortunato's health and the dampness of the vaults, all while secretly planning his revenge. Fortunato is oblivious to the danger and continues to press on, driven by his desire for wine. The narrator ultimately seals Fortunato in the vault, trapping him alive as he awaits his fate.\n",
      "\n",
      "---------------------------------------\n",
      "\n",
      "The narrator plans to punish his friend Fortunato with impunity by luring him into a trap using Fortunato's weakness - his connoisseurship in wine. The narrator encounters Fortunato at dusk during the carnival season and engages him in conversation about a pipe of Amontillado wine that the narrator has purchased. Fortunato is eager to taste the wine, despite the narrator's doubts about its authenticity.\n",
      "\n",
      "As they walk towards the palazzo, the narrator pretends to be concerned about Fortunato's health and the dampness of the vaults, all while secretly planning his revenge. The narrator uses Fortunato's enthusiasm for wine as bait to lure him into the vaults, where he intends to bury him alive.\n",
      "\n",
      "The narrator leads Fortunato through several suites of rooms, eventually arriving at the archway that leads into the vaults. As they descend the long and winding staircase, the narrator requests Fortunato to be cautious, but Fortunato is oblivious to the danger and continues to press on, driven by his desire for wine.\n",
      "\n",
      "Upon reaching the foot of the descent, the narrator stands with Fortunato on the damp ground of the catacombs. The narrator then presents Fortunato with a bottle of Medoc wine, which Fortunato eagerly drinks, despite the narrator's warnings about its authenticity.\n",
      "\n",
      "---------------------------------------\n",
      "\n",
      "The narrator plans to punish his friend Fortunato by luring him into a trap using Fortunato's enthusiasm for wine. The narrator encounters Fortunato at dusk during the carnival season and engages him in conversation about a pipe of Amontillado wine that the narrator has purchased. Fortunato is eager to taste the wine, despite the narrator's doubts about its authenticity.\n",
      "\n",
      "As they walk towards the palazzo, the narrator pretends to be concerned about Fortunato's health and the dampness of the vaults, all while secretly planning his revenge. The narrator uses Fortunato's enthusiasm for wine as bait to lure him into the vaults, where he intends to bury him alive.\n",
      "\n",
      "Upon reaching the crypt, the narrator presents Fortunato with a bottle of Medoc wine, which Fortunato eagerly drinks, despite the narrator's warnings about its authenticity. As they explore the crypt, the narrator leads Fortunato through several suites of rooms, eventually arriving at a deep crypt where human remains are piled high.\n",
      "\n",
      "The narrator then reveals that this is the location of the Amontillado, and Fortunato becomes excited to taste it. However, as he approaches the niche, he becomes bewildered and unable to move forward. The narrator quickly fetters him to the granite wall using a chain and padlock, rendering him immobile.\n",
      "\n",
      "The narrator then begins to wall up the entrance of the niche, using building stone and mortar to seal Fortunato inside. As he works, he busies himself with the pile of bones, throwing them aside to uncover the materials needed for his task. The narrator's actions are calculated and deliberate, designed to ensure that Fortunato will be trapped and unable to escape.\n",
      "\n",
      "Throughout the encounter, the narrator is aware of Fortunato's masonic affiliation, which he uses as a way to manipulate him. He pretends not to understand Fortunato's gestures and signs, but ultimately reveals his true intentions by producing a trowel from beneath his cloak. The narrator's plan is to punish Fortunato for his connoisseurship in wine, using his own enthusiasm against him.\n",
      "\n",
      "---------------------------------------\n",
      "\n",
      "The narrator, Montresor, plans to punish his friend Fortunato by luring him into a trap using Fortunato's enthusiasm for wine. Montresor encounters Fortunato at dusk during the carnival season and engages him in conversation about a pipe of Amontillado wine that Montresor has purchased. Fortunato is eager to taste the wine, despite Montresor's doubts about its authenticity.\n",
      "\n",
      "As they walk towards the palazzo, Montresor pretends to be concerned about Fortunato's health and the dampness of the vaults, all while secretly planning his revenge. He uses Fortunato's enthusiasm for wine as bait to lure him into the crypts, where he intends to bury him alive.\n",
      "\n",
      "Upon reaching the crypt, Montresor presents Fortunato with a bottle of Medoc wine, which Fortunato eagerly drinks, despite Montresor's warnings about its authenticity. As they explore the crypt, Montresor leads Fortunato through several suites of rooms, eventually arriving at a deep crypt where human remains are piled high.\n",
      "\n",
      "Montresor then reveals that this is the location of the Amontillado, and Fortunato becomes excited to taste it. However, as he approaches the niche, he becomes bewildered and unable to move forward. Montresor quickly fetters him to the granite wall using a chain and padlock, rendering him immobile.\n",
      "\n",
      "As Montresor works on sealing Fortunato inside, he is aware of his masonic affiliation, which he uses as a way to manipulate him. He pretends not to understand Fortunato's gestures and signs, but ultimately reveals his true intentions by producing a trowel from beneath his cloak.\n",
      "\n",
      "Throughout the encounter, Montresor's plan unfolds with calculated precision, designed to ensure that Fortunato will be trapped and unable to escape. The narrator's actions are deliberate and sinister, driven by a desire for revenge against Fortunato's connoisseurship in wine.\n",
      "\n",
      "---------------------------------------\n",
      "\n"
     ]
    }
   ],
   "source": [
    "doc_contents = [\n",
    "    doc.page_content \n",
    "    for doc in split_docs\n",
    "]\n",
    "\n",
    "async for step in app.astream(    \n",
    "    input=State(doc_contents=doc_contents),\n",
    "    stream_mode=\"values\",\n",
    "):\n",
    "    if summary := step.get(\"summary\"):\n",
    "        print(summary)\n",
    "        print(\"\\n---------------------------------------\\n\")                    "
   ]
  },
  {
   "cell_type": "markdown",
   "id": "00a52c0b",
   "metadata": {},
   "source": [
    "The final `step` contains the summary as synthesized from the entire set of sub-documents. In the corresponding [LangSmith trace](https://smith.langchain.com/public/317d1709-0387-47a5-8705-67a28a4b1df9/r) we can see the individual LLM calls, grouped under their respective nodes."
   ]
  },
  {
   "cell_type": "markdown",
   "id": "2b98e91f",
   "metadata": {},
   "source": []
  }
 ],
 "metadata": {
  "kernelspec": {
   "display_name": "Python 3",
   "language": "python",
   "name": "python3"
  },
  "language_info": {
   "codemirror_mode": {
    "name": "ipython",
    "version": 3
   },
   "file_extension": ".py",
   "mimetype": "text/x-python",
   "name": "python",
   "nbconvert_exporter": "python",
   "pygments_lexer": "ipython3",
   "version": "3.11.10"
  }
 },
 "nbformat": 4,
 "nbformat_minor": 5
}

{
 "cells": [
  {
   "cell_type": "markdown",
   "id": "530f2b64-a6e8-42da-8da6-5ccde1d48bb0",
   "metadata": {},
   "source": [
    "# Summarize Text\n",
    "\n",
    "## Overview\n",
    "\n",
    "LLMs are a great tool for summarizing text content, given their proficiency in understanding and generating text.\n",
    "\n",
    "In the context of [RAG (retrieval-augmented generation)](https://github.com/TCLee/rag-langchain), summarizing text can help distill the information in a large number of retrieved documents to provide context for a LLM.\n",
    "\n",
    "In this notebook, we'll go over how to summarize text content with 3 different strategies. First, we split/chunk a long piece of text into \"sub-documents\". Then, we'll explore the following strategies:\n",
    "- **Stuff**: Simply \"stuff\" all the documents into a single prompt. This is the simplest approach if all the documents can fit inside the model's context window.\n",
    "- **Map-Reduce**: Summarize each document in a `map` step and then `reduce` the summaries into a final summary. The `map` step is typically _parallelized_ over the input documents.\n",
    "- **Iterative Refinement**:\n",
    "    1. Summarize the first document.\n",
    "    2. Refine/update the result based on the next document.\n",
    "    3. Repeat through the sequence of documents until finished."
   ]
  },
  {
   "cell_type": "markdown",
   "id": "9abff1f7-f911-43e7-94cd-adbadb0d1bbc",
   "metadata": {},
   "source": [
    "## Environment variables\n",
    "\n",
    "Before running the next cell, please make sure you have setup the `.env` file in the project directory as described in [`README.md`](README.md).\n",
    "\n",
    "Next, we will load in the necessary environment variables for this notebook using [`dotenv`](https://github.com/theskumar/python-dotenv):\n"
   ]
  },
  {
   "cell_type": "code",
   "execution_count": 1,
   "id": "5ffd5c34-0645-4baf-a29e-c36ed12487d3",
   "metadata": {},
   "outputs": [],
   "source": [
    "from dotenv import load_dotenv\n",
    "\n",
    "_ = load_dotenv()"
   ]
  },
  {
   "cell_type": "markdown",
   "id": "5170548d-1906-417f-990b-61393fcbf734",
   "metadata": {},
   "source": [
    "## Run models locally\n",
    "\n",
    "Before we begin, please make sure you followed the instructions in the [`README.md`](README.md) to setup [`Ollama`](https://ollama.com/) and [`Llama 3.2`](https://ollama.com/library/llama3.2).\n",
    "\n",
    "Two important benefits of running LLMs locally on your own device are:\n",
    "- **Privacy**: Your data is not sent to a third party, and it is not subject to the terms of service of a commercial service.\n",
    "- **Cost**: There is no inference fee, which is important for token-intensive applications (e.g., summarization, agent simulations)\n",
    "\n",
    "In this notebook, we'll be using `Llama 3.2` with size of `3B` parameters. We'll use `Ollama` to serve the LLM and run inference locally.\n",
    "\n",
    "> See also: [How to run models locally](https://python.langchain.com/docs/how_to/local_llms/).\n",
    "\n",
    "Let's load the model into memory and try it out:"
   ]
  },
  {
   "cell_type": "code",
   "execution_count": 3,
   "id": "236597aa-768e-4496-aa51-da027243abaa",
   "metadata": {},
   "outputs": [
    {
     "data": {
      "text/plain": [
       "AIMessage(content='The first man to walk on the Moon was Neil Armstrong. He stepped out of the lunar module Eagle and onto the Moon\\'s surface on July 20, 1969, during the Apollo 11 mission. Armstrong famously declared, \"That\\'s one small step for man, one giant leap for mankind,\" as he became the first person to set foot on another celestial body.\\n\\nHowever, it\\'s worth noting that while Neil Armstrong was the first person to walk on the Moon, Edwin \"Buzz\" Aldrin also walked on the Moon during the same mission.', additional_kwargs={}, response_metadata={'model': 'llama3.2:3b', 'created_at': '2024-10-09T07:36:25.877427Z', 'message': {'role': 'assistant', 'content': ''}, 'done_reason': 'stop', 'done': True, 'total_duration': 9179254000, 'load_duration': 34814667, 'prompt_eval_count': 34, 'prompt_eval_duration': 1149675000, 'eval_count': 112, 'eval_duration': 7989434000}, id='run-628cf619-e332-40cf-b1d7-b18020159e66-0', usage_metadata={'input_tokens': 34, 'output_tokens': 112, 'total_tokens': 146})"
      ]
     },
     "execution_count": 3,
     "metadata": {},
     "output_type": "execute_result"
    }
   ],
   "source": [
    "from langchain_ollama import ChatOllama\n",
    "\n",
    "chat_model = ChatOllama(\n",
    "    model=\"llama3.2:3b\",\n",
    "    temperature=0\n",
    ")\n",
    "\n",
    "chat_model.invoke(\"Who was the first man on the moon?\")"
   ]
  },
  {
   "cell_type": "markdown",
   "id": "d07f7d2b-cda6-41b0-b064-f73af46bb1cf",
   "metadata": {},
   "source": [
    "## Document Loading\n",
    "\n",
    "Let's load in a sample text file that we will use for summarization.\n",
    "\n",
    "The sample file is a short story by [Edgar Allan Poe](https://en.wikipedia.org/wiki/Edgar_Allan_Poe) titled [\"The Cask of Amontillado\"](https://www.gutenberg.org/ebooks/1063). This and other short stories are freely available on [Project Gutenberg](https://www.gutenberg.org/)."
   ]
  },
  {
   "cell_type": "code",
   "execution_count": 4,
   "id": "bfb38894-329a-434e-b97e-a00c2bb115c8",
   "metadata": {},
   "outputs": [],
   "source": [
    "from langchain_community.document_loaders import TextLoader\n",
    "\n",
    "text_loader = TextLoader(\n",
    "    file_path=\"data/the-cask-of-amontillado.txt\", \n",
    "    encoding=\"utf-8\"\n",
    ")\n",
    "docs = text_loader.load()"
   ]
  },
  {
   "cell_type": "code",
   "execution_count": 5,
   "id": "2a057c35-5dc2-4d7f-a13c-83bf56af23ff",
   "metadata": {},
   "outputs": [
    {
     "name": "stdout",
     "output_type": "stream",
     "text": [
      "The Cask of Amontillado\n",
      "by Edgar Allan Poe\n",
      "\n",
      "\n",
      "The thousand injuries of Fortunato I had borne as I best could, but\n",
      "when he ventured upon insult, I vowed revenge.  You, who so well know\n",
      "the nature of my soul, will not suppose, however, that I gave utterance\n",
      "to a threat.  _At length_ I would be avenged; this was a point definitely\n",
      "settled--but the very definitiveness with which it was resolved,\n",
      "precluded the idea of risk.  I must not only punish, but punish with\n",
      "impunity.  A wrong is unredressed whe\n"
     ]
    }
   ],
   "source": [
    "print(\n",
    "    docs[0].page_content[:500]\n",
    ")"
   ]
  },
  {
   "cell_type": "markdown",
   "id": "57525664-866f-4fda-9b57-816f6045eb4f",
   "metadata": {},
   "source": [
    "## Stuff: Summarize text in a single LLM call\n",
    "\n",
    "For models with larger context windows, we can summarize a long document via a single LLM call. Here we use `Llama 3.2` that supports a context length of `128K` tokens.\n",
    "\n",
    "LangChain implements a simple pre-built chain [`create_stuff_documents_chain`](https://python.langchain.com/api_reference/langchain/chains/langchain.chains.combine_documents.stuff.create_stuff_documents_chain.html)\n",
    "that \"stuffs\" a prompt with the desired context for summarization (and other purposes). It takes a list of documents, insert them all into a prompt, and pass that prompt to an LLM.\n",
    "\n",
    "> See also: [How to summarize text in a single LLM call](https://python.langchain.com/docs/how_to/summarize_stuff/)"
   ]
  },
  {
   "cell_type": "code",
   "execution_count": 6,
   "id": "33a1e9b1-e09f-4b27-9a83-a1a48313954a",
   "metadata": {},
   "outputs": [
    {
     "name": "stdout",
     "output_type": "stream",
     "text": [
      "The infamous \"Cask of Amontillado\" by Edgar Allan Poe, a masterclass in atmospheric horror and psychological manipulation.\n",
      "\n",
      "The story revolves around Montresor, who seeks revenge against his acquaintance Fortunato for an unspecified offense. Montresor lures Fortunato into the catacombs beneath his family's castle with promises of rare wine, only to trap him alive and ultimately kill him by walled him up in a tomb.\n",
      "\n",
      "Throughout the narrative, Poe expertly crafts tension and suspense through:\n",
      "\n",
      "1. **Atmosphere**: The damp, musty air of the catacombs creates an eerie setting that immerses the reader.\n",
      "2. **Psychological manipulation**: Montresor's words are laced with sarcasm, irony, and condescension, making Fortunato (and the reader) feel uneasy and complicit in his own demise.\n",
      "3. **Building tension**: Poe skillfully ratchets up the suspense by introducing new sounds, movements, and emotions, keeping the reader on edge.\n",
      "4. **Symbolism**: The Amontillado wine serves as a symbol of Montresor's revenge, while the catacombs represent the darkness within human nature.\n",
      "\n",
      "The story's climax is both shocking and chilling, leaving the reader with a sense of unease and a deeper understanding of the complexities of human psychology.\n",
      "\n",
      "Do you have any specific questions about this tale or would you like to discuss its themes and symbolism?\n"
     ]
    }
   ],
   "source": [
    "from langchain.chains.combine_documents \\\n",
    "    import create_stuff_documents_chain\n",
    "from langchain_core.prompts import ChatPromptTemplate\n",
    "\n",
    "\n",
    "# Define prompt\n",
    "prompt_template = ChatPromptTemplate.from_messages(\n",
    "    [\n",
    "        (\"system\", \n",
    "         \"Your task is write a short summary of the \"\n",
    "         \"content provided by the user.\"),\n",
    "        (\"human\", \"{context}\")\n",
    "    ]\n",
    ")\n",
    "\n",
    "# Instantiate chain\n",
    "stuff_chain = create_stuff_documents_chain(\n",
    "    llm=chat_model, \n",
    "    prompt=prompt_template,\n",
    "    document_variable_name='context',\n",
    ")\n",
    "\n",
    "# Invoke chain\n",
    "result = stuff_chain.invoke(\n",
    "    input={\"context\": docs}\n",
    ")\n",
    "\n",
    "print(result)"
   ]
  },
  {
   "cell_type": "markdown",
   "id": "0e76e97e-b5a7-4171-a101-5002d08202ba",
   "metadata": {},
   "source": [
    "### Streaming\n",
    "\n",
    "Note that we can also stream the result token-by-token:"
   ]
  },
  {
   "cell_type": "code",
   "execution_count": 7,
   "id": "3ee5442c-f105-4338-9f36-42dbfc81a109",
   "metadata": {},
   "outputs": [
    {
     "name": "stdout",
     "output_type": "stream",
     "text": [
      "The| infamous| \"|C|ask| of| Am|ont|ill|ado|\"| by| Edgar| Allan| Poe|,| a| master|class| in| atmospheric| horror| and| psychological| manipulation|.\n",
      "\n",
      "|The| story| revolves| around| Mont|res|or|,| who| seeks| revenge| against| his| acquaintance| Fort|un|ato| for| an| unspecified| offense|.| Mont|res|or| l|ures| Fort|un|ato| into| the| cata|com|bs| beneath| his| family|'s| castle| with| promises| of| rare| wine|,| only| to| trap| him| alive| and| ultimately| kill| him| by| w|alled| him| up| in| a| tomb|.\n",
      "\n",
      "|Throughout| the| narrative|,| Poe| expert|ly| crafts| tension| and| suspense| through|:\n",
      "\n",
      "|1|.| **|At|mos|phere|**:| The| damp|,| must|y| air| of| the| cata|com|bs| creates| an| eerie| setting| that| imm|ers|es| the| reader|.\n",
      "|2|.| **|Psych|ological| manipulation|**:| Mont|res|or|'s| words| are| l|aced| with| sarc|asm|,| irony|,| and| con|desc|ension|,| making| Fort|un|ato| (|and| the| reader|)| feel| uneasy| and| comp|licit| in| his| own| demise|.\n",
      "|3|.| **|Building| tension|**:| Poe| skill|fully| r|atch|ets| up| the| suspense| by| introducing| new| sounds|,| movements|,| and| emotions|,| keeping| the| reader| on| edge|.\n",
      "|4|.| **|Symbol|ism|**:| The| Am|ont|ill|ado| wine| serves| as| a| symbol| of| Mont|res|or|'s| revenge|,| while| the| cata|com|bs| represent| the| darkness| within| human| nature|.\n",
      "\n",
      "|The| story|'s| climax| is| both| shocking| and| chilling|,| leaving| the| reader| with| a| sense| of| une|ase| and| a| deeper| understanding| of| the| complexities| of| human| psychology|.\n",
      "\n",
      "|Do| you| have| any| specific| questions| about| this| tale| or| would| you| like| to| discuss| its| themes| and| symbolism|?||"
     ]
    }
   ],
   "source": [
    "input_dict = {\"context\": docs}\n",
    "\n",
    "for token in stuff_chain.stream(input=input_dict):\n",
    "    print(token, end=\"|\")"
   ]
  },
  {
   "cell_type": "markdown",
   "id": "f37a2bdb-8080-43b8-b662-89169a0a77c3",
   "metadata": {},
   "source": [
    "## Map-Reduce: Summarize long texts via parallelization\n",
    "\n",
    "LLMs can summarize and distill information from large volumes of text. In cases when the amount of text is too large to fit in the model's context window, it is necessary to break up the summarization task into smaller sub-tasks.\n",
    "\n",
    "`Map-Reduce` is one way of accomplishing this. The steps are:\n",
    "\n",
    "1. Split the long text into \"sub-documents\" (or chunks).\n",
    "2. `Map` each sub-document to an individual summary using an LLM.\n",
    "3. `Reduce` (or consolidate) those summaries into a final global summary.\n",
    "\n",
    "Note that the `Map` step is _parallelized_ over the sub-documents. This strategy is especially effective when understanding of a sub-document does **not** depend on prior context. For example, when summarizing a corpus of many, shorter independent documents.\n",
    "\n",
    "> See also: [How to summarize text via Map-Reduce](https://python.langchain.com/docs/how_to/summarize_map_reduce/)"
   ]
  },
  {
   "cell_type": "markdown",
   "id": "683292e0-3c92-464d-88f6-3b7abdc2865c",
   "metadata": {},
   "source": [
    "### Split into sub-documents\n",
    "\n",
    "First we split a long text into smaller \"sub-documents\" to be mapped.\n",
    "We'll split the text up into chunks by counting the number of tokens. Since we're using [`llama3.2:3b`](https://ollama.com/library/llama3.2:3b) with `Ollama`, we'll use [`meta-llama/Llama-3.2-3B-Instruct`](https://huggingface.co/meta-llama/Llama-3.2-3B-Instruct) tokenizer downloaded from [HuggingFace 🤗 Hub](https://huggingface.co/) to count the tokens:"
   ]
  },
  {
   "cell_type": "code",
   "execution_count": 9,
   "id": "0199892e-5264-431e-a151-6bacfbd025a6",
   "metadata": {},
   "outputs": [
    {
     "name": "stdout",
     "output_type": "stream",
     "text": [
      "Generated 4 documents.\n"
     ]
    }
   ],
   "source": [
    "from transformers import AutoTokenizer\n",
    "from langchain_text_splitters import CharacterTextSplitter\n",
    "\n",
    "\n",
    "llama_tokenizer = AutoTokenizer.from_pretrained(\"./llama-tokenizer\")\n",
    "\n",
    "text_splitter = CharacterTextSplitter.from_huggingface_tokenizer(\n",
    "    tokenizer=llama_tokenizer,\n",
    "    chunk_size=1000, \n",
    "    chunk_overlap=0\n",
    ")\n",
    "split_docs = text_splitter.split_documents(docs)\n",
    "\n",
    "print(\n",
    "    f\"Generated {len(split_docs)} documents.\"\n",
    ")"
   ]
  },
  {
   "cell_type": "markdown",
   "id": "89121d84-77e8-4257-a5c9-24ffaa0e83a2",
   "metadata": {},
   "source": [
    "### Map step\n",
    "\n",
    "Let's first define the prompt associated with the map step, and pass it to the LLM via a [chain](https://python.langchain.com/docs/how_to/sequence/):"
   ]
  },
  {
   "cell_type": "code",
   "execution_count": 10,
   "id": "13a3dfd0-c042-4f79-9cb6-93a0b9504b66",
   "metadata": {},
   "outputs": [],
   "source": [
    "from langchain_core.output_parsers import StrOutputParser\n",
    "from langchain_core.prompts import ChatPromptTemplate\n",
    "\n",
    "map_prompt = ChatPromptTemplate.from_messages(\n",
    "    messages=[\n",
    "        (\n",
    "            \"human\", \n",
    "            \"Write a concise summary of the following:\\n\\n\"\n",
    "            \"{context}\"\n",
    "        )\n",
    "    ]\n",
    ")\n",
    "\n",
    "map_chain = map_prompt | chat_model | StrOutputParser()"
   ]
  },
  {
   "cell_type": "code",
   "execution_count": 11,
   "id": "97a0904e-b26d-4beb-af61-85bf628cf909",
   "metadata": {},
   "outputs": [
    {
     "name": "stdout",
     "output_type": "stream",
     "text": [
      "================================\u001b[1m Human Message \u001b[0m=================================\n",
      "\n",
      "Write a concise summary of the following:\n",
      "\n",
      "\u001b[33;1m\u001b[1;3m{context}\u001b[0m\n"
     ]
    }
   ],
   "source": [
    "map_prompt.pretty_print()"
   ]
  },
  {
   "cell_type": "markdown",
   "id": "6ffd6a2e-2fed-449e-a7b1-98d6e8b8d73f",
   "metadata": {},
   "source": [
    "### Reduce step\n",
    "\n",
    "We also define a chain that takes the document mapping results and reduces them into a single output."
   ]
  },
  {
   "cell_type": "code",
   "execution_count": 12,
   "id": "ec7fd404-284d-4578-a47f-d976852bb756",
   "metadata": {},
   "outputs": [],
   "source": [
    "reduce_template = (\n",
    "    \"The following is a set of summaries:\\n\\n\"\n",
    "    \"{docs}\\n\\n\"\n",
    "    \"Take these and distill it into a final, \"\n",
    "    \"consolidated summary of the main themes.\"\n",
    ")\n",
    "\n",
    "reduce_prompt = ChatPromptTemplate(\n",
    "    messages=[\n",
    "        (\"human\", reduce_template)\n",
    "    ]\n",
    ")\n",
    "\n",
    "reduce_chain = reduce_prompt | chat_model | StrOutputParser()"
   ]
  },
  {
   "cell_type": "code",
   "execution_count": 13,
   "id": "4a80b04e-502e-4373-b70c-09923e679b21",
   "metadata": {},
   "outputs": [
    {
     "name": "stdout",
     "output_type": "stream",
     "text": [
      "================================\u001b[1m Human Message \u001b[0m=================================\n",
      "\n",
      "The following is a set of summaries:\n",
      "\n",
      "\u001b[33;1m\u001b[1;3m{docs}\u001b[0m\n",
      "\n",
      "Take these and distill it into a final, consolidated summary of the main themes.\n"
     ]
    }
   ],
   "source": [
    "reduce_prompt.pretty_print()"
   ]
  },
  {
   "cell_type": "markdown",
   "id": "063d4eb5-cb75-48fe-8755-04744dfd66ec",
   "metadata": {},
   "source": [
    "### Orchestration via LangGraph\n",
    "\n",
    "Below we implement a simple application that maps the summarization step on a list of documents, then reduces them using the above prompts.\n",
    "\n",
    "`Map-Reduce` flows are particularly useful when texts are too long to fit into the context window of a LLM. For long texts, we need to ensure that the number of tokens to be summarized in the `reduce` step does not exceed the LLM's context window. Here we implement a recursive `collapsing` of the summaries:\n",
    "\n",
    "* The inputs are partitioned based on a token limit `MAX_TOKENS`\n",
    "* Generate a summary for each partition.\n",
    "* Repeat the `collapsing` step until total length of all summaries is $\\leq$ `MAX_TOKENS`\n",
    "\n",
    "This enables summarization of arbitrary-length text.\n",
    "\n",
    "Note that we define an artificially low maximum token length to illustrate the `collapsing` step."
   ]
  },
  {
   "cell_type": "code",
   "execution_count": 43,
   "id": "97d4911f-9745-47a5-8203-0a26453a2dcd",
   "metadata": {},
   "outputs": [],
   "source": [
    "MAX_TOKENS = 500"
   ]
  },
  {
   "cell_type": "code",
   "execution_count": 44,
   "id": "8ab91db6-cb57-458d-8caa-db37bc70dfa3",
   "metadata": {},
   "outputs": [],
   "source": [
    "import operator\n",
    "from typing import (\n",
    "    Annotated, \n",
    "    Literal, \n",
    "    TypedDict\n",
    ")\n",
    "\n",
    "from langchain_core.documents import Document\n",
    "from langchain.chains.combine_documents.reduce import (\n",
    "    acollapse_docs,\n",
    "    split_list_of_docs,\n",
    ")\n",
    "from langgraph.types import Send\n",
    "from langgraph.graph import (\n",
    "    START,\n",
    "    END,      \n",
    "    StateGraph\n",
    ")\n",
    "\n",
    "\n",
    "def get_total_num_tokens(\n",
    "    documents: list[Document]\n",
    ") -> int:\n",
    "    \"\"\"\n",
    "    Returns the total number of tokens in the \n",
    "    list of documents.\n",
    "    \"\"\"\n",
    "    def count_tokens(text: str) -> int:\n",
    "        return len(\n",
    "            llama_tokenizer.encode(text)\n",
    "        )\n",
    "    \n",
    "    return sum(        \n",
    "        count_tokens(doc.page_content)\n",
    "        for doc in documents\n",
    "    )\n",
    "\n",
    "\n",
    "# This will be the overall state of the main graph.\n",
    "# It will contain the input document contents, corresponding\n",
    "# summaries, and a final summary.\n",
    "class OverallState(TypedDict):\n",
    "    # Notice here we use the operator.add\n",
    "    # This is because we want combine all the summaries we generate\n",
    "    # from individual nodes back into one list - this is essentially\n",
    "    # the \"reduce\" part\n",
    "    contents: list[str]\n",
    "    summaries: Annotated[list, operator.add]\n",
    "    collapsed_summaries: list[Document]\n",
    "    final_summary: str\n",
    "\n",
    "\n",
    "# This will be the state of the node that we will \"map\" all\n",
    "# documents to in order to generate summaries\n",
    "class SummaryState(TypedDict):\n",
    "    content: str\n",
    "\n",
    "\n",
    "# Here we generate a summary, given a document\n",
    "async def generate_summary(\n",
    "    state: SummaryState\n",
    ") -> OverallState:\n",
    "    response = await map_chain.ainvoke(\n",
    "        state[\"content\"]\n",
    "    )\n",
    "    return OverallState(\n",
    "        summaries=[response]\n",
    "    )\n",
    "\n",
    "\n",
    "# Here we define the logic to map out over the documents\n",
    "# We will use this as an edge in the graph\n",
    "def map_summaries(\n",
    "    state: OverallState\n",
    ") -> list[Send]:\n",
    "    # We will return a list of `Send` objects\n",
    "    # Each `Send` object consists of the name of a node in the graph\n",
    "    # as well as the state to send to that node\n",
    "    return [\n",
    "        Send(\n",
    "            node=\"generate_summary\",             \n",
    "            arg=SummaryState(content=content)\n",
    "        ) for content in state[\"contents\"]        \n",
    "    ]\n",
    "\n",
    "\n",
    "def collect_summaries(\n",
    "    state: OverallState\n",
    ") -> OverallState:\n",
    "    return OverallState(\n",
    "        collapsed_summaries=[\n",
    "            Document(summary) \n",
    "            for summary in state[\"summaries\"]\n",
    "        ]\n",
    "    )\n",
    "\n",
    "\n",
    "# Add node to collapse summaries\n",
    "async def collapse_summaries(\n",
    "    state: OverallState\n",
    ") -> OverallState:\n",
    "    doc_lists = split_list_of_docs(\n",
    "        docs=state[\"collapsed_summaries\"], \n",
    "        length_func=get_total_num_tokens, \n",
    "        token_max=MAX_TOKENS\n",
    "    )\n",
    "\n",
    "    results = []\n",
    "    for doc_list in doc_lists:\n",
    "        results.append(\n",
    "            await acollapse_docs(\n",
    "                docs=doc_list, \n",
    "                combine_document_func=reduce_chain.ainvoke\n",
    "            )\n",
    "        )\n",
    "\n",
    "    return OverallState(\n",
    "        collapsed_summaries=results\n",
    "    )\n",
    "\n",
    "\n",
    "# This represents a conditional edge in the graph that determines\n",
    "# if we should collapse the summaries or not\n",
    "def should_collapse(\n",
    "    state: OverallState,\n",
    ") -> Literal[\n",
    "        \"collapse_summaries\", \n",
    "        \"generate_final_summary\"\n",
    "    ]:\n",
    "    num_tokens = get_total_num_tokens(\n",
    "        state[\"collapsed_summaries\"]\n",
    "    )\n",
    "\n",
    "    # If total number of tokens exceeds the \n",
    "    # maximum limit, repeat the collapsing step.\n",
    "    if num_tokens > MAX_TOKENS:\n",
    "        return \"collapse_summaries\"\n",
    "    else:\n",
    "        return \"generate_final_summary\"\n",
    "\n",
    "\n",
    "# Here we will generate the final summary\n",
    "async def generate_final_summary(\n",
    "    state: OverallState\n",
    ") -> OverallState:\n",
    "    response = await reduce_chain.ainvoke(\n",
    "        state[\"collapsed_summaries\"]\n",
    "    )\n",
    "    return OverallState(\n",
    "        final_summary=response\n",
    "    )"
   ]
  },
  {
   "cell_type": "code",
   "execution_count": 45,
   "id": "ee2da04b-5ac2-4f03-8826-2f0f5aa9510a",
   "metadata": {},
   "outputs": [],
   "source": [
    "# Construct the graph\n",
    "\n",
    "# Nodes:\n",
    "graph = StateGraph(state_schema=OverallState)\n",
    "graph.add_node(\n",
    "    node=\"generate_summary\", \n",
    "    action=generate_summary\n",
    ")\n",
    "graph.add_node(\n",
    "    node=\"collect_summaries\", \n",
    "    action=collect_summaries\n",
    ")\n",
    "graph.add_node(\n",
    "    node=\"collapse_summaries\", \n",
    "    action=collapse_summaries\n",
    ")\n",
    "graph.add_node(\n",
    "    node=\"generate_final_summary\", \n",
    "    action=generate_final_summary\n",
    ")\n",
    "\n",
    "# Edges:\n",
    "\n",
    "# This edge maps to one or more `generate_summary` nodes.\n",
    "graph.add_conditional_edges(\n",
    "    source=START, \n",
    "    path=map_summaries, \n",
    "    path_map=[\"generate_summary\"]\n",
    ")\n",
    "graph.add_edge(\n",
    "    start_key=\"generate_summary\", \n",
    "    end_key=\"collect_summaries\"\n",
    ")\n",
    "graph.add_conditional_edges(\n",
    "    source=\"collect_summaries\", \n",
    "    path=should_collapse\n",
    ")\n",
    "graph.add_conditional_edges(\n",
    "    source=\"collapse_summaries\", \n",
    "    path=should_collapse\n",
    ")\n",
    "graph.add_edge(\n",
    "    start_key=\"generate_final_summary\", \n",
    "    end_key=END\n",
    ")\n",
    "\n",
    "app = graph.compile()"
   ]
  },
  {
   "cell_type": "markdown",
   "id": "7592712a-b359-4e24-99f2-15569bdac9df",
   "metadata": {},
   "source": [
    "Let's plot the graph to visualize it:"
   ]
  },
  {
   "cell_type": "code",
   "execution_count": 46,
   "id": "a9aae9d8-06a9-403f-b00a-b2e22f9a05fb",
   "metadata": {},
   "outputs": [
    {
     "data": {
      "image/jpeg": "[encoded data removed]",
      "text/plain": [
       "<IPython.core.display.Image object>"
      ]
     },
     "execution_count": 46,
     "metadata": {},
     "output_type": "execute_result"
    }
   ],
   "source": [
    "from IPython.display import Image\n",
    "\n",
    "Image(app.get_graph().draw_mermaid_png())"
   ]
  },
  {
   "cell_type": "markdown",
   "id": "0ec9a846-82fa-436c-ab68-bc80bb867828",
   "metadata": {},
   "source": [
    "### Invoke graph\n",
    "\n",
    "When running the application, we can stream the graph to observe its sequence of steps. Below, we will simply print out the name of the step.\n",
    "\n",
    "Note that because we have a loop in the graph, it can be helpful to specify a [`recursion_limit`](https://langchain-ai.github.io/langgraph/reference/errors/#langgraph.errors.GraphRecursionError) on its execution. This will raise a specific error when the specified limit is exceeded."
   ]
  },
  {
   "cell_type": "code",
   "execution_count": 47,
   "id": "d6deed54-93f5-4b9a-afd1-188154104a2b",
   "metadata": {},
   "outputs": [
    {
     "name": "stdout",
     "output_type": "stream",
     "text": [
      "['generate_summary']\n",
      "['generate_summary']\n",
      "['generate_summary']\n",
      "['generate_summary']\n",
      "['collect_summaries']\n",
      "['collapse_summaries']\n",
      "['generate_final_summary']\n"
     ]
    }
   ],
   "source": [
    "async for step in app.astream(\n",
    "    input=OverallState(\n",
    "        contents=[\n",
    "            doc.page_content \n",
    "            for doc in split_docs\n",
    "        ]\n",
    "    ),\n",
    "    config={\n",
    "        \"recursion_limit\": 10\n",
    "    },\n",
    "):\n",
    "    print(list(step.keys())) "
   ]
  },
  {
   "cell_type": "code",
   "execution_count": 48,
   "id": "27fbfa4b",
   "metadata": {},
   "outputs": [
    {
     "name": "stdout",
     "output_type": "stream",
     "text": [
      "Here is a consolidated summary of the main themes in \"The Cask of Amontillado\" by Edgar Allan Poe:\n",
      "\n",
      "\"The story revolves around the theme of revenge and its consequences, exploring the darker aspects of human nature and the devastating effects of obsession. The narrative also delves into deception, manipulation, and the blurring of reality and fantasy, as the narrator uses cunning and ruthlessness to lure his acquaintance Fortunato into a trap. Additionally, the story touches on themes of secrets and hidden truths, with the underground vaults serving as a symbol of confinement and isolation. Ultimately, \"The Cask of Amontillado\" is a masterful exploration of the human psyche, revealing how seemingly innocent actions can lead to sinister consequences.\"\n"
     ]
    }
   ],
   "source": [
    "print(step[\"generate_final_summary\"][\"final_summary\"])"
   ]
  },
  {
   "cell_type": "markdown",
   "id": "cf8f1544",
   "metadata": {},
   "source": [
    "In the corresponding [LangSmith trace](https://smith.langchain.com/public/f14d42d4-51fa-4dcf-9475-da0a602a6b4f/r) we can see the individual LLM calls, grouped under their respective nodes.\n",
    "\n",
    "> Check out the following guide on the details of `Map-Reduce` in LangGraph: \n",
    "> \n",
    "> [How to create map-reduce branches for parallel execution](https://langchain-ai.github.io/langgraph/how-tos/map-reduce/)"
   ]
  },
  {
   "cell_type": "markdown",
   "id": "e44d31be",
   "metadata": {},
   "source": []
  }
 ],
 "metadata": {
  "kernelspec": {
   "display_name": "Python 3 (ipykernel)",
   "language": "python",
   "name": "python3"
  },
  "language_info": {
   "codemirror_mode": {
    "name": "ipython",
    "version": 3
   },
   "file_extension": ".py",
   "mimetype": "text/x-python",
   "name": "python",
   "nbconvert_exporter": "python",
   "pygments_lexer": "ipython3",
   "version": "3.11.10"
  }
 },
 "nbformat": 4,
 "nbformat_minor": 5
}
